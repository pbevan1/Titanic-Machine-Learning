{
 "cells": [
  {
   "cell_type": "code",
   "execution_count": 1,
   "metadata": {
    "tags": [
     "remove_cell"
    ]
   },
   "outputs": [],
   "source": [
    "#Auto setting directory to make it simpler upon opening notebook\n",
    "import os \n",
    "os.chdir ('C:/Users/peter/Documents/Newcastle Uni - Data Science/CSC8635 - Machine Learning with Project/Project/Notebooks')"
   ]
  },
  {
   "cell_type": "code",
   "execution_count": 2,
   "metadata": {
    "tags": [
     "remove_cell"
    ]
   },
   "outputs": [],
   "source": [
    "#Hiding deprecation warnings\n",
    "import warnings\n",
    "warnings.simplefilter(action='ignore', category=FutureWarning)"
   ]
  },
  {
   "cell_type": "code",
   "execution_count": 3,
   "metadata": {
    "tags": [
     "remove_cell"
    ]
   },
   "outputs": [],
   "source": [
    "#importing libraries to be used in analysis below\n",
    "import matplotlib.pyplot as plt\n",
    "import numpy as np\n",
    "import pandas as pd\n",
    "import seaborn as sns\n",
    "import missingno\n",
    "import statsmodels.api as sm\n",
    "import pylab\n",
    "import nbconvert\n",
    "import random\n",
    "from random import choices"
   ]
  },
  {
   "cell_type": "code",
   "execution_count": 4,
   "metadata": {},
   "outputs": [],
   "source": [
    "#importing machine learning libraries\n",
    "from sklearn.preprocessing import MinMaxScaler\n",
    "from sklearn.pipeline import Pipeline\n",
    "from sklearn.compose import ColumnTransformer\n",
    "from sklearn.linear_model import LogisticRegression\n",
    "from sklearn.model_selection import cross_val_score\n",
    "from sklearn.metrics import confusion_matrix\n",
    "from sklearn.ensemble import RandomForestClassifier\n",
    "from sklearn.model_selection import RepeatedStratifiedKFold\n",
    "from sklearn.model_selection import GridSearchCV\n",
    "from sklearn.model_selection import RandomizedSearchCV\n",
    "from sklearn.feature_selection import RFECV\n",
    "from sklearn.discriminant_analysis import LinearDiscriminantAnalysis\n",
    "from sklearn.naive_bayes import GaussianNB\n",
    "from sklearn.naive_bayes import MultinomialNB\n",
    "from sklearn.naive_bayes import BernoulliNB\n",
    "\n",
    "#Deep learning libraries\n",
    "import tensorflow as tf\n",
    "from tensorflow import keras\n",
    "from tensorflow.keras.models import Sequential\n",
    "from tensorflow.keras.layers import Activation, Dense\n",
    "from tensorflow.keras.optimizers import Adam\n",
    "from tensorflow.keras.metrics import categorical_crossentropy\n",
    "from sklearn.utils import shuffle\n",
    "from kerastuner.tuners import RandomSearch\n",
    "from kerastuner.engine.hyperparameters import HyperParameters\n",
    "import time"
   ]
  },
  {
   "cell_type": "code",
   "execution_count": 5,
   "metadata": {
    "tags": [
     "remove_cell"
    ]
   },
   "outputs": [
    {
     "data": {
      "text/plain": [
       "(891, 12)"
      ]
     },
     "execution_count": 5,
     "metadata": {},
     "output_type": "execute_result"
    }
   ],
   "source": [
    "#saving training data csv as data frame in environment\n",
    "train = pd.read_csv (r'Data/train.csv')\n",
    "#observing shape of training data\n",
    "train.shape"
   ]
  },
  {
   "cell_type": "code",
   "execution_count": 6,
   "metadata": {
    "tags": [
     "remove_cell"
    ]
   },
   "outputs": [
    {
     "data": {
      "text/plain": [
       "(418, 12)"
      ]
     },
     "execution_count": 6,
     "metadata": {},
     "output_type": "execute_result"
    }
   ],
   "source": [
    "#saving test data csv as data frame in environment\n",
    "test = pd.read_csv (r'Data/testdata_with_groundTruth.csv')\n",
    "#observing shape of test data\n",
    "test.shape"
   ]
  },
  {
   "cell_type": "code",
   "execution_count": 7,
   "metadata": {
    "tags": [
     "remove_cell"
    ]
   },
   "outputs": [
    {
     "data": {
      "text/plain": [
       "(1309, 13)"
      ]
     },
     "execution_count": 7,
     "metadata": {},
     "output_type": "execute_result"
    }
   ],
   "source": [
    "#concatenating training and test data to full dataset and storing\n",
    "#Adding marker to test and train data before joining for easy splitting later\n",
    "train['train_test'] = 1\n",
    "test['train_test'] = 0\n",
    "data_all = pd.concat([train, test])\n",
    "data_all.shape"
   ]
  },
  {
   "cell_type": "code",
   "execution_count": 197,
   "metadata": {},
   "outputs": [
    {
     "data": {
      "text/plain": [
       "Index(['PassengerId', 'Survived', 'Pclass', 'Name', 'Sex', 'Age', 'SibSp',\n",
       "       'Parch', 'Ticket', 'Fare', 'Cabin', 'Embarked', 'train_test'],\n",
       "      dtype='object')"
      ]
     },
     "execution_count": 197,
     "metadata": {},
     "output_type": "execute_result"
    }
   ],
   "source": [
    "#eyeballing column names get a feel for the variables\n",
    "train.columns"
   ]
  },
  {
   "cell_type": "code",
   "execution_count": 198,
   "metadata": {},
   "outputs": [
    {
     "data": {
      "text/html": [
       "<div>\n",
       "<style scoped>\n",
       "    .dataframe tbody tr th:only-of-type {\n",
       "        vertical-align: middle;\n",
       "    }\n",
       "\n",
       "    .dataframe tbody tr th {\n",
       "        vertical-align: top;\n",
       "    }\n",
       "\n",
       "    .dataframe thead th {\n",
       "        text-align: right;\n",
       "    }\n",
       "</style>\n",
       "<table border=\"1\" class=\"dataframe\">\n",
       "  <thead>\n",
       "    <tr style=\"text-align: right;\">\n",
       "      <th></th>\n",
       "      <th>PassengerId</th>\n",
       "      <th>Survived</th>\n",
       "      <th>Pclass</th>\n",
       "      <th>Name</th>\n",
       "      <th>Sex</th>\n",
       "      <th>Age</th>\n",
       "      <th>SibSp</th>\n",
       "      <th>Parch</th>\n",
       "      <th>Ticket</th>\n",
       "      <th>Fare</th>\n",
       "      <th>Cabin</th>\n",
       "      <th>Embarked</th>\n",
       "      <th>train_test</th>\n",
       "    </tr>\n",
       "  </thead>\n",
       "  <tbody>\n",
       "    <tr>\n",
       "      <th>0</th>\n",
       "      <td>1</td>\n",
       "      <td>0</td>\n",
       "      <td>3</td>\n",
       "      <td>Braund, Mr. Owen Harris</td>\n",
       "      <td>male</td>\n",
       "      <td>22.0</td>\n",
       "      <td>1</td>\n",
       "      <td>0</td>\n",
       "      <td>A/5 21171</td>\n",
       "      <td>7.2500</td>\n",
       "      <td>NaN</td>\n",
       "      <td>S</td>\n",
       "      <td>1</td>\n",
       "    </tr>\n",
       "    <tr>\n",
       "      <th>1</th>\n",
       "      <td>2</td>\n",
       "      <td>1</td>\n",
       "      <td>1</td>\n",
       "      <td>Cumings, Mrs. John Bradley (Florence Briggs Th...</td>\n",
       "      <td>female</td>\n",
       "      <td>38.0</td>\n",
       "      <td>1</td>\n",
       "      <td>0</td>\n",
       "      <td>PC 17599</td>\n",
       "      <td>71.2833</td>\n",
       "      <td>C85</td>\n",
       "      <td>C</td>\n",
       "      <td>1</td>\n",
       "    </tr>\n",
       "    <tr>\n",
       "      <th>2</th>\n",
       "      <td>3</td>\n",
       "      <td>1</td>\n",
       "      <td>3</td>\n",
       "      <td>Heikkinen, Miss. Laina</td>\n",
       "      <td>female</td>\n",
       "      <td>26.0</td>\n",
       "      <td>0</td>\n",
       "      <td>0</td>\n",
       "      <td>STON/O2. 3101282</td>\n",
       "      <td>7.9250</td>\n",
       "      <td>NaN</td>\n",
       "      <td>S</td>\n",
       "      <td>1</td>\n",
       "    </tr>\n",
       "  </tbody>\n",
       "</table>\n",
       "</div>"
      ],
      "text/plain": [
       "   PassengerId  Survived  Pclass  \\\n",
       "0            1         0       3   \n",
       "1            2         1       1   \n",
       "2            3         1       3   \n",
       "\n",
       "                                                Name     Sex   Age  SibSp  \\\n",
       "0                            Braund, Mr. Owen Harris    male  22.0      1   \n",
       "1  Cumings, Mrs. John Bradley (Florence Briggs Th...  female  38.0      1   \n",
       "2                             Heikkinen, Miss. Laina  female  26.0      0   \n",
       "\n",
       "   Parch            Ticket     Fare Cabin Embarked  train_test  \n",
       "0      0         A/5 21171   7.2500   NaN        S           1  \n",
       "1      0          PC 17599  71.2833   C85        C           1  \n",
       "2      0  STON/O2. 3101282   7.9250   NaN        S           1  "
      ]
     },
     "execution_count": 198,
     "metadata": {},
     "output_type": "execute_result"
    }
   ],
   "source": [
    "#viewing the head of the data to get a feel for the data structure\n",
    "train.head(3)"
   ]
  },
  {
   "cell_type": "code",
   "execution_count": 199,
   "metadata": {},
   "outputs": [
    {
     "name": "stdout",
     "output_type": "stream",
     "text": [
      "<class 'pandas.core.frame.DataFrame'>\n",
      "RangeIndex: 891 entries, 0 to 890\n",
      "Data columns (total 13 columns):\n",
      " #   Column       Non-Null Count  Dtype  \n",
      "---  ------       --------------  -----  \n",
      " 0   PassengerId  891 non-null    int64  \n",
      " 1   Survived     891 non-null    int64  \n",
      " 2   Pclass       891 non-null    int64  \n",
      " 3   Name         891 non-null    object \n",
      " 4   Sex          891 non-null    object \n",
      " 5   Age          714 non-null    float64\n",
      " 6   SibSp        891 non-null    int64  \n",
      " 7   Parch        891 non-null    int64  \n",
      " 8   Ticket       891 non-null    object \n",
      " 9   Fare         891 non-null    float64\n",
      " 10  Cabin        204 non-null    object \n",
      " 11  Embarked     889 non-null    object \n",
      " 12  train_test   891 non-null    int64  \n",
      "dtypes: float64(2), int64(6), object(5)\n",
      "memory usage: 90.6+ KB\n"
     ]
    }
   ],
   "source": [
    "#displaying useful info about the training set\n",
    "train.info()"
   ]
  },
  {
   "cell_type": "code",
   "execution_count": 200,
   "metadata": {},
   "outputs": [
    {
     "data": {
      "text/html": [
       "<div>\n",
       "<style scoped>\n",
       "    .dataframe tbody tr th:only-of-type {\n",
       "        vertical-align: middle;\n",
       "    }\n",
       "\n",
       "    .dataframe tbody tr th {\n",
       "        vertical-align: top;\n",
       "    }\n",
       "\n",
       "    .dataframe thead th {\n",
       "        text-align: right;\n",
       "    }\n",
       "</style>\n",
       "<table border=\"1\" class=\"dataframe\">\n",
       "  <thead>\n",
       "    <tr style=\"text-align: right;\">\n",
       "      <th></th>\n",
       "      <th>PassengerId</th>\n",
       "      <th>Survived</th>\n",
       "      <th>Pclass</th>\n",
       "      <th>Age</th>\n",
       "      <th>SibSp</th>\n",
       "      <th>Parch</th>\n",
       "      <th>Fare</th>\n",
       "      <th>train_test</th>\n",
       "    </tr>\n",
       "  </thead>\n",
       "  <tbody>\n",
       "    <tr>\n",
       "      <th>count</th>\n",
       "      <td>891.000000</td>\n",
       "      <td>891.000000</td>\n",
       "      <td>891.000000</td>\n",
       "      <td>714.000000</td>\n",
       "      <td>891.000000</td>\n",
       "      <td>891.000000</td>\n",
       "      <td>891.000000</td>\n",
       "      <td>891.0</td>\n",
       "    </tr>\n",
       "    <tr>\n",
       "      <th>mean</th>\n",
       "      <td>446.000000</td>\n",
       "      <td>0.383838</td>\n",
       "      <td>2.308642</td>\n",
       "      <td>29.699118</td>\n",
       "      <td>0.523008</td>\n",
       "      <td>0.381594</td>\n",
       "      <td>32.204208</td>\n",
       "      <td>1.0</td>\n",
       "    </tr>\n",
       "    <tr>\n",
       "      <th>std</th>\n",
       "      <td>257.353842</td>\n",
       "      <td>0.486592</td>\n",
       "      <td>0.836071</td>\n",
       "      <td>14.526497</td>\n",
       "      <td>1.102743</td>\n",
       "      <td>0.806057</td>\n",
       "      <td>49.693429</td>\n",
       "      <td>0.0</td>\n",
       "    </tr>\n",
       "    <tr>\n",
       "      <th>min</th>\n",
       "      <td>1.000000</td>\n",
       "      <td>0.000000</td>\n",
       "      <td>1.000000</td>\n",
       "      <td>0.420000</td>\n",
       "      <td>0.000000</td>\n",
       "      <td>0.000000</td>\n",
       "      <td>0.000000</td>\n",
       "      <td>1.0</td>\n",
       "    </tr>\n",
       "    <tr>\n",
       "      <th>25%</th>\n",
       "      <td>223.500000</td>\n",
       "      <td>0.000000</td>\n",
       "      <td>2.000000</td>\n",
       "      <td>20.125000</td>\n",
       "      <td>0.000000</td>\n",
       "      <td>0.000000</td>\n",
       "      <td>7.910400</td>\n",
       "      <td>1.0</td>\n",
       "    </tr>\n",
       "    <tr>\n",
       "      <th>50%</th>\n",
       "      <td>446.000000</td>\n",
       "      <td>0.000000</td>\n",
       "      <td>3.000000</td>\n",
       "      <td>28.000000</td>\n",
       "      <td>0.000000</td>\n",
       "      <td>0.000000</td>\n",
       "      <td>14.454200</td>\n",
       "      <td>1.0</td>\n",
       "    </tr>\n",
       "    <tr>\n",
       "      <th>75%</th>\n",
       "      <td>668.500000</td>\n",
       "      <td>1.000000</td>\n",
       "      <td>3.000000</td>\n",
       "      <td>38.000000</td>\n",
       "      <td>1.000000</td>\n",
       "      <td>0.000000</td>\n",
       "      <td>31.000000</td>\n",
       "      <td>1.0</td>\n",
       "    </tr>\n",
       "    <tr>\n",
       "      <th>max</th>\n",
       "      <td>891.000000</td>\n",
       "      <td>1.000000</td>\n",
       "      <td>3.000000</td>\n",
       "      <td>80.000000</td>\n",
       "      <td>8.000000</td>\n",
       "      <td>6.000000</td>\n",
       "      <td>512.329200</td>\n",
       "      <td>1.0</td>\n",
       "    </tr>\n",
       "  </tbody>\n",
       "</table>\n",
       "</div>"
      ],
      "text/plain": [
       "       PassengerId    Survived      Pclass         Age       SibSp  \\\n",
       "count   891.000000  891.000000  891.000000  714.000000  891.000000   \n",
       "mean    446.000000    0.383838    2.308642   29.699118    0.523008   \n",
       "std     257.353842    0.486592    0.836071   14.526497    1.102743   \n",
       "min       1.000000    0.000000    1.000000    0.420000    0.000000   \n",
       "25%     223.500000    0.000000    2.000000   20.125000    0.000000   \n",
       "50%     446.000000    0.000000    3.000000   28.000000    0.000000   \n",
       "75%     668.500000    1.000000    3.000000   38.000000    1.000000   \n",
       "max     891.000000    1.000000    3.000000   80.000000    8.000000   \n",
       "\n",
       "            Parch        Fare  train_test  \n",
       "count  891.000000  891.000000       891.0  \n",
       "mean     0.381594   32.204208         1.0  \n",
       "std      0.806057   49.693429         0.0  \n",
       "min      0.000000    0.000000         1.0  \n",
       "25%      0.000000    7.910400         1.0  \n",
       "50%      0.000000   14.454200         1.0  \n",
       "75%      0.000000   31.000000         1.0  \n",
       "max      6.000000  512.329200         1.0  "
      ]
     },
     "execution_count": 200,
     "metadata": {},
     "output_type": "execute_result"
    }
   ],
   "source": [
    "#displaying useful descriptive stats about the training data\n",
    "train.describe()"
   ]
  },
  {
   "cell_type": "code",
   "execution_count": 202,
   "metadata": {},
   "outputs": [
    {
     "data": {
      "image/png": "[encoded data removed]",
      "text/plain": [
       "<Figure size 1800x720 with 2 Axes>"
      ]
     },
     "metadata": {
      "needs_background": "light"
     },
     "output_type": "display_data"
    }
   ],
   "source": [
    "#visualising the missing values in the dataset (white is missing)\n",
    "missingno.matrix(data_all);"
   ]
  },
  {
   "cell_type": "code",
   "execution_count": 203,
   "metadata": {},
   "outputs": [],
   "source": [
    "#Replacing N/A values with most common embark location (Southampton)\n",
    "data_all['Embarked'] = data_all['Embarked'].fillna('S')"
   ]
  },
  {
   "cell_type": "code",
   "execution_count": 158,
   "metadata": {},
   "outputs": [
    {
     "data": {
      "text/plain": [
       "Text(0, 0.5, 'Frequency')"
      ]
     },
     "execution_count": 158,
     "metadata": {},
     "output_type": "execute_result"
    },
    {
     "data": {
      "image/png": "[encoded data removed]",
      "text/plain": [
       "<Figure size 432x288 with 1 Axes>"
      ]
     },
     "metadata": {
      "needs_background": "light"
     },
     "output_type": "display_data"
    }
   ],
   "source": [
    "#plotting histogram of age data\n",
    "plt.hist(train.Age, bins=20, edgecolor = \"white\")\n",
    "plt.title('Histogram of passenger ages')\n",
    "plt.xlabel('Age')\n",
    "plt.ylabel('Frequency')"
   ]
  },
  {
   "cell_type": "code",
   "execution_count": 159,
   "metadata": {},
   "outputs": [
    {
     "data": {
      "image/png": "[encoded data removed]",
      "text/plain": [
       "<Figure size 432x288 with 1 Axes>"
      ]
     },
     "metadata": {
      "needs_background": "light"
     },
     "output_type": "display_data"
    }
   ],
   "source": [
    "#plotting histogram of fares data\n",
    "plt.hist(train.Fare, bins = 50, edgecolor = \"white\")\n",
    "plt.title('Histogram of fares')\n",
    "plt.xlabel('Fare')\n",
    "plt.ylabel('Frequency');"
   ]
  },
  {
   "cell_type": "code",
   "execution_count": 160,
   "metadata": {},
   "outputs": [
    {
     "data": {
      "image/png": "[encoded data removed]",
      "text/plain": [
       "<Figure size 432x288 with 1 Axes>"
      ]
     },
     "metadata": {
      "needs_background": "light"
     },
     "output_type": "display_data"
    }
   ],
   "source": [
    "#plotting bar plot of SibSp data\n",
    "sns.countplot(y = 'SibSp', data = train);"
   ]
  },
  {
   "cell_type": "code",
   "execution_count": 161,
   "metadata": {},
   "outputs": [
    {
     "data": {
      "image/png": "[encoded data removed]",
      "text/plain": [
       "<Figure size 432x288 with 1 Axes>"
      ]
     },
     "metadata": {
      "needs_background": "light"
     },
     "output_type": "display_data"
    }
   ],
   "source": [
    "#plotting bar plot of parents/children aboard data\n",
    "sns.countplot(y = 'Parch', data = train);"
   ]
  },
  {
   "cell_type": "code",
   "execution_count": 162,
   "metadata": {},
   "outputs": [
    {
     "data": {
      "image/png": "[encoded data removed]",
      "text/plain": [
       "<Figure size 432x288 with 1 Axes>"
      ]
     },
     "metadata": {
      "needs_background": "light"
     },
     "output_type": "display_data"
    }
   ],
   "source": [
    "#plotting bar plot of sex data\n",
    "sns.countplot(y = 'Sex', data = train);\n",
    "#plt.yticks([0,1],['Male', 'Female']);"
   ]
  },
  {
   "cell_type": "code",
   "execution_count": 163,
   "metadata": {},
   "outputs": [
    {
     "data": {
      "image/png": "[encoded data removed]",
      "text/plain": [
       "<Figure size 432x288 with 1 Axes>"
      ]
     },
     "metadata": {
      "needs_background": "light"
     },
     "output_type": "display_data"
    }
   ],
   "source": [
    "#plotting bar plot of survivor data\n",
    "sns.countplot(y = 'Survived', data = train)\n",
    "plt.yticks([0,1],['Died', 'Survived'])\n",
    "plt.xlim(0, 600);"
   ]
  },
  {
   "cell_type": "code",
   "execution_count": 164,
   "metadata": {},
   "outputs": [
    {
     "data": {
      "image/png": "[encoded data removed]",
      "text/plain": [
       "<Figure size 432x288 with 1 Axes>"
      ]
     },
     "metadata": {
      "needs_background": "light"
     },
     "output_type": "display_data"
    }
   ],
   "source": [
    "#plotting bar plot of class data\n",
    "sns.countplot(y = 'Pclass', data = train);"
   ]
  },
  {
   "cell_type": "code",
   "execution_count": 165,
   "metadata": {},
   "outputs": [
    {
     "data": {
      "image/png": "[encoded data removed]",
      "text/plain": [
       "<Figure size 432x288 with 1 Axes>"
      ]
     },
     "metadata": {
      "needs_background": "light"
     },
     "output_type": "display_data"
    }
   ],
   "source": [
    "#plotting bar plot of embark location data\n",
    "sns.countplot(y = 'Embarked', data = train)\n",
    "plt.yticks([0,1,2],['Southampton', 'Cherbourg', 'Queenstown']);"
   ]
  },
  {
   "cell_type": "code",
   "execution_count": 166,
   "metadata": {},
   "outputs": [],
   "source": [
    "#One hot encoding embark location and sex\n",
    "train = pd.get_dummies(train, columns=['Embarked', 'Sex'], drop_first=True)\n",
    "test = pd.get_dummies(test, columns=['Embarked', 'Sex'], drop_first=True)\n",
    "data_all = pd.get_dummies(data_all, columns=['Embarked', 'Sex'], drop_first=True)"
   ]
  },
  {
   "cell_type": "code",
   "execution_count": 167,
   "metadata": {},
   "outputs": [],
   "source": [
    "#creating correlation matrix of the training data to explore correlation between variables\n",
    "correlation_matrix = train.drop('train_test', axis=1).corr().round(2)"
   ]
  },
  {
   "cell_type": "code",
   "execution_count": 168,
   "metadata": {},
   "outputs": [
    {
     "data": {
      "image/png": "[encoded data removed]",
      "text/plain": [
       "<Figure size 576x432 with 2 Axes>"
      ]
     },
     "metadata": {
      "needs_background": "light"
     },
     "output_type": "display_data"
    }
   ],
   "source": [
    "#using heatmap to plot correlation matrix with conditional formatting, higjhlighting interesting values\n",
    "fig, ax = plt.subplots(figsize=(8,6)) \n",
    "corel = sns.heatmap(data=correlation_matrix, annot=True, ax=ax)"
   ]
  },
  {
   "cell_type": "code",
   "execution_count": 169,
   "metadata": {},
   "outputs": [
    {
     "data": {
      "text/html": [
       "<style  type=\"text/css\" >\n",
       "</style><table id=\"T_fa21f754_5716_11eb_ab4f_e3d4c938a823\" ><caption>Averages of each variable vs survival</caption><thead>    <tr>        <th class=\"blank level0\" ></th>        <th class=\"col_heading level0 col0\" >Age</th>        <th class=\"col_heading level0 col1\" >Embarked_Q</th>        <th class=\"col_heading level0 col2\" >Embarked_S</th>        <th class=\"col_heading level0 col3\" >Fare</th>        <th class=\"col_heading level0 col4\" >Parch</th>        <th class=\"col_heading level0 col5\" >PassengerId</th>        <th class=\"col_heading level0 col6\" >Pclass</th>        <th class=\"col_heading level0 col7\" >Sex_male</th>        <th class=\"col_heading level0 col8\" >SibSp</th>        <th class=\"col_heading level0 col9\" >train_test</th>    </tr>    <tr>        <th class=\"index_name level0\" >Survived</th>        <th class=\"blank\" ></th>        <th class=\"blank\" ></th>        <th class=\"blank\" ></th>        <th class=\"blank\" ></th>        <th class=\"blank\" ></th>        <th class=\"blank\" ></th>        <th class=\"blank\" ></th>        <th class=\"blank\" ></th>        <th class=\"blank\" ></th>        <th class=\"blank\" ></th>    </tr></thead><tbody>\n",
       "                <tr>\n",
       "                        <th id=\"T_fa21f754_5716_11eb_ab4f_e3d4c938a823level0_row0\" class=\"row_heading level0 row0\" >0</th>\n",
       "                        <td id=\"T_fa21f754_5716_11eb_ab4f_e3d4c938a823row0_col0\" class=\"data row0 col0\" >30.626179</td>\n",
       "                        <td id=\"T_fa21f754_5716_11eb_ab4f_e3d4c938a823row0_col1\" class=\"data row0 col1\" >0.085610</td>\n",
       "                        <td id=\"T_fa21f754_5716_11eb_ab4f_e3d4c938a823row0_col2\" class=\"data row0 col2\" >0.777778</td>\n",
       "                        <td id=\"T_fa21f754_5716_11eb_ab4f_e3d4c938a823row0_col3\" class=\"data row0 col3\" >22.117887</td>\n",
       "                        <td id=\"T_fa21f754_5716_11eb_ab4f_e3d4c938a823row0_col4\" class=\"data row0 col4\" >0.329690</td>\n",
       "                        <td id=\"T_fa21f754_5716_11eb_ab4f_e3d4c938a823row0_col5\" class=\"data row0 col5\" >447.016393</td>\n",
       "                        <td id=\"T_fa21f754_5716_11eb_ab4f_e3d4c938a823row0_col6\" class=\"data row0 col6\" >2.531876</td>\n",
       "                        <td id=\"T_fa21f754_5716_11eb_ab4f_e3d4c938a823row0_col7\" class=\"data row0 col7\" >0.852459</td>\n",
       "                        <td id=\"T_fa21f754_5716_11eb_ab4f_e3d4c938a823row0_col8\" class=\"data row0 col8\" >0.553734</td>\n",
       "                        <td id=\"T_fa21f754_5716_11eb_ab4f_e3d4c938a823row0_col9\" class=\"data row0 col9\" >1</td>\n",
       "            </tr>\n",
       "            <tr>\n",
       "                        <th id=\"T_fa21f754_5716_11eb_ab4f_e3d4c938a823level0_row1\" class=\"row_heading level0 row1\" >1</th>\n",
       "                        <td id=\"T_fa21f754_5716_11eb_ab4f_e3d4c938a823row1_col0\" class=\"data row1 col0\" >28.343690</td>\n",
       "                        <td id=\"T_fa21f754_5716_11eb_ab4f_e3d4c938a823row1_col1\" class=\"data row1 col1\" >0.087719</td>\n",
       "                        <td id=\"T_fa21f754_5716_11eb_ab4f_e3d4c938a823row1_col2\" class=\"data row1 col2\" >0.634503</td>\n",
       "                        <td id=\"T_fa21f754_5716_11eb_ab4f_e3d4c938a823row1_col3\" class=\"data row1 col3\" >48.395408</td>\n",
       "                        <td id=\"T_fa21f754_5716_11eb_ab4f_e3d4c938a823row1_col4\" class=\"data row1 col4\" >0.464912</td>\n",
       "                        <td id=\"T_fa21f754_5716_11eb_ab4f_e3d4c938a823row1_col5\" class=\"data row1 col5\" >444.368421</td>\n",
       "                        <td id=\"T_fa21f754_5716_11eb_ab4f_e3d4c938a823row1_col6\" class=\"data row1 col6\" >1.950292</td>\n",
       "                        <td id=\"T_fa21f754_5716_11eb_ab4f_e3d4c938a823row1_col7\" class=\"data row1 col7\" >0.318713</td>\n",
       "                        <td id=\"T_fa21f754_5716_11eb_ab4f_e3d4c938a823row1_col8\" class=\"data row1 col8\" >0.473684</td>\n",
       "                        <td id=\"T_fa21f754_5716_11eb_ab4f_e3d4c938a823row1_col9\" class=\"data row1 col9\" >1</td>\n",
       "            </tr>\n",
       "    </tbody></table>"
      ],
      "text/plain": [
       "<pandas.io.formats.style.Styler at 0x1aa50123848>"
      ]
     },
     "execution_count": 169,
     "metadata": {},
     "output_type": "execute_result"
    }
   ],
   "source": [
    "#creating pivot table to view averages for died/survived for each variable\n",
    "survival_pivot = pd.pivot_table(train, index = \"Survived\")\n",
    "survival_pivot.style.set_caption(\"Averages of each variable vs survival\")"
   ]
  },
  {
   "cell_type": "markdown",
   "metadata": {},
   "source": [
    "## Preprocessing & Feature Engineering"
   ]
  },
  {
   "cell_type": "code",
   "execution_count": 170,
   "metadata": {},
   "outputs": [],
   "source": [
    "#replacing N/A values of Fare with training median since not normally distributed\n",
    "data_all.Fare = data_all.Fare.fillna(train.Fare.median())\n",
    "#replacing N/A values of Age with training mean since normally distributed\n",
    "data_all.Age = data_all.Age.fillna(train.Age.mean())"
   ]
  },
  {
   "cell_type": "code",
   "execution_count": 171,
   "metadata": {},
   "outputs": [],
   "source": [
    "#Extracting first letter of cabin code as new column\n",
    "data_all['cabin_letter'] = data_all.iloc[:,9].apply(lambda x: str(x)[0])\n",
    "data_all.loc[data_all['cabin_letter'] == 'n', 'cabin_letter'] = 'Unknown'\n",
    "#dropping original cabin column\n",
    "data_all = data_all.drop('Cabin', axis=1)"
   ]
  },
  {
   "cell_type": "code",
   "execution_count": 172,
   "metadata": {},
   "outputs": [],
   "source": [
    "#Extracting title from name and adding as new column, dropping name column afterwards\n",
    "data_all['Title'] = data_all.Name.str.extract(' ([A-Za-z]+)\\.', expand=False)\n",
    "data_all = data_all.drop('Name', axis=1)"
   ]
  },
  {
   "cell_type": "code",
   "execution_count": 173,
   "metadata": {},
   "outputs": [
    {
     "data": {
      "text/plain": [
       "Mr          757\n",
       "Miss        260\n",
       "Mrs         197\n",
       "Master       61\n",
       "Dr            8\n",
       "Rev           8\n",
       "Col           4\n",
       "Major         2\n",
       "Mlle          2\n",
       "Ms            2\n",
       "Capt          1\n",
       "Dona          1\n",
       "Don           1\n",
       "Mme           1\n",
       "Countess      1\n",
       "Sir           1\n",
       "Lady          1\n",
       "Jonkheer      1\n",
       "Name: Title, dtype: int64"
      ]
     },
     "execution_count": 173,
     "metadata": {},
     "output_type": "execute_result"
    }
   ],
   "source": [
    "#viewing all titles present, deciding on grouping\n",
    "data_all.Title.value_counts()"
   ]
  },
  {
   "cell_type": "code",
   "execution_count": 174,
   "metadata": {},
   "outputs": [],
   "source": [
    "#Aggregating similar titles\n",
    "data_all['Title'] = data_all['Title'].replace(['Mlle'],'Miss')\n",
    "data_all['Title'] = data_all['Title'].replace(['Mme','Ms'],'Mrs')\n",
    "data_all['Title'] = data_all['Title'].replace(['Rev','Col', 'Dr', 'Major', 'Capt'],'Honoured')\n",
    "data_all['Title'] = data_all['Title'].replace(['Sir', 'Don', 'Dona', 'Lady', 'Jonkheer', 'Countess'],'Noble')"
   ]
  },
  {
   "cell_type": "code",
   "execution_count": 175,
   "metadata": {},
   "outputs": [
    {
     "data": {
      "text/plain": [
       "Mr          757\n",
       "Miss        262\n",
       "Mrs         200\n",
       "Master       61\n",
       "Honoured     23\n",
       "Noble         6\n",
       "Name: Title, dtype: int64"
      ]
     },
     "execution_count": 175,
     "metadata": {},
     "output_type": "execute_result"
    }
   ],
   "source": [
    "#Check the above worked and view distribution\n",
    "data_all.Title.value_counts()"
   ]
  },
  {
   "cell_type": "code",
   "execution_count": 176,
   "metadata": {},
   "outputs": [],
   "source": [
    "#One hot encoding title and cabin letter\n",
    "data_all = pd.get_dummies(data_all, columns=['Title', 'cabin_letter'], drop_first=True)"
   ]
  },
  {
   "cell_type": "code",
   "execution_count": 177,
   "metadata": {},
   "outputs": [
    {
     "data": {
      "text/plain": [
       "0        (18.0, 24.0]\n",
       "1        (33.0, 43.0]\n",
       "2        (24.0, 29.0]\n",
       "3        (33.0, 43.0]\n",
       "4        (33.0, 43.0]\n",
       "            ...      \n",
       "413    (29.0, 29.699]\n",
       "414      (33.0, 43.0]\n",
       "415      (33.0, 43.0]\n",
       "416    (29.0, 29.699]\n",
       "417    (29.0, 29.699]\n",
       "Name: Age, Length: 1309, dtype: category\n",
       "Categories (7, interval[float64]): [(0.169, 18.0] < (18.0, 24.0] < (24.0, 29.0] < (29.0, 29.699] < (29.699, 33.0] < (33.0, 43.0] < (43.0, 80.0]]"
      ]
     },
     "execution_count": 177,
     "metadata": {},
     "output_type": "execute_result"
    }
   ],
   "source": [
    "#Using qcut to split age data into 7 similarly sized groups\n",
    "pd.qcut(data_all.Age, 7)"
   ]
  },
  {
   "cell_type": "code",
   "execution_count": 178,
   "metadata": {},
   "outputs": [],
   "source": [
    "#Grouping continuous age data into ordinal numeric groups\n",
    "data_all['Age'] = data_all['Age'].astype(int)\n",
    "data_all.loc[data_all['Age'] <= 18, 'Age'] = 0\n",
    "data_all.loc[(data_all['Age'] > 18) & (data_all['Age'] <= 24), 'Age'] = 1\n",
    "data_all.loc[(data_all['Age'] > 24) & (data_all['Age'] <= 29), 'Age'] = 2\n",
    "data_all.loc[(data_all['Age'] > 29) & (data_all['Age'] <= 29.699), 'Age'] = 3\n",
    "data_all.loc[(data_all['Age'] > 29.699) & (data_all['Age'] <= 33), 'Age'] = 4\n",
    "data_all.loc[(data_all['Age'] > 33) & (data_all['Age'] <= 43), 'Age'] = 5\n",
    "data_all.loc[data_all['Age'] > 43, 'Age'] = 6"
   ]
  },
  {
   "cell_type": "code",
   "execution_count": 179,
   "metadata": {},
   "outputs": [
    {
     "data": {
      "text/plain": [
       "2    423\n",
       "1    213\n",
       "0    196\n",
       "6    186\n",
       "5    177\n",
       "4    114\n",
       "Name: Age, dtype: int64"
      ]
     },
     "execution_count": 179,
     "metadata": {},
     "output_type": "execute_result"
    }
   ],
   "source": [
    "#checking distribution of groups\n",
    "data_all['Age'].value_counts()"
   ]
  },
  {
   "cell_type": "code",
   "execution_count": 180,
   "metadata": {},
   "outputs": [
    {
     "data": {
      "text/plain": [
       "0      (-0.001, 7.775]\n",
       "1      (53.1, 512.329]\n",
       "2       (7.775, 8.662]\n",
       "3         (26.0, 53.1]\n",
       "4       (7.775, 8.662]\n",
       "            ...       \n",
       "413     (7.775, 8.662]\n",
       "414    (53.1, 512.329]\n",
       "415    (-0.001, 7.775]\n",
       "416     (7.775, 8.662]\n",
       "417     (14.454, 26.0]\n",
       "Name: Fare, Length: 1309, dtype: category\n",
       "Categories (6, interval[float64]): [(-0.001, 7.775] < (7.775, 8.662] < (8.662, 14.454] < (14.454, 26.0] < (26.0, 53.1] < (53.1, 512.329]]"
      ]
     },
     "execution_count": 180,
     "metadata": {},
     "output_type": "execute_result"
    }
   ],
   "source": [
    "#Using qcut to split Fare data into 6 similarly sized groups\n",
    "pd.qcut(data_all.Fare, 6)"
   ]
  },
  {
   "cell_type": "code",
   "execution_count": 181,
   "metadata": {},
   "outputs": [],
   "source": [
    "#Grouping continuous fare data into ordinal numeric groups\n",
    "data_all.loc[data_all['Fare'] <= 7.91, 'Fare'] = 0\n",
    "data_all.loc[(data_all['Fare'] > 7.91) & (data_all['Fare'] <= 14.454), 'Fare'] = 1\n",
    "data_all.loc[(data_all['Fare'] > 14.454) & (data_all['Fare'] <= 31), 'Fare']   = 2\n",
    "data_all.loc[(data_all['Fare'] > 31) & (data_all['Fare'] <= 99), 'Fare']   = 3\n",
    "data_all.loc[(data_all['Fare'] > 99) & (data_all['Fare'] <= 250), 'Fare']   = 4\n",
    "data_all.loc[data_all['Fare'] > 250, 'Fare'] = 5\n",
    "data_all['Fare'] = data_all['Fare'].astype(int)"
   ]
  },
  {
   "cell_type": "code",
   "execution_count": 182,
   "metadata": {},
   "outputs": [
    {
     "data": {
      "text/plain": [
       "0    337\n",
       "2    332\n",
       "1    310\n",
       "3    246\n",
       "4     67\n",
       "5     17\n",
       "Name: Fare, dtype: int64"
      ]
     },
     "execution_count": 182,
     "metadata": {},
     "output_type": "execute_result"
    }
   ],
   "source": [
    "#viewing grouping of fare data\n",
    "data_all['Fare'].value_counts()"
   ]
  },
  {
   "cell_type": "code",
   "execution_count": 183,
   "metadata": {},
   "outputs": [],
   "source": [
    "#Dropping passenger ID and Ticket code\n",
    "data_all = data_all.drop(['PassengerId','Ticket'], axis=1)"
   ]
  },
  {
   "cell_type": "code",
   "execution_count": 184,
   "metadata": {},
   "outputs": [],
   "source": [
    "#Creating new feature called from combination of SibSp and Parch\n",
    "data_all['Family'] = data_all['SibSp'] + data_all['Parch']"
   ]
  },
  {
   "cell_type": "code",
   "execution_count": 185,
   "metadata": {},
   "outputs": [],
   "source": [
    "#Creating new binary feature which shows whether passenger\n",
    "#was traveling alone or not\n",
    "data_all['Alone'] = 0\n",
    "data_all.loc[data_all['Family']==0, 'Alone'] = 1"
   ]
  },
  {
   "cell_type": "code",
   "execution_count": 186,
   "metadata": {},
   "outputs": [],
   "source": [
    "#manual dropping of features (not used but kept in case wanted)\n",
    "to_drop = ['Family']\n",
    "              #'cabin_letter_C', 'cabin_letter_D',\n",
    "              #'cabin_letter_E', 'cabin_letter_F', 'cabin_letter_G',\n",
    "              #'cabin_letter_T', 'Family']\n",
    "data_all = data_all.drop(to_drop, axis=1)"
   ]
  },
  {
   "cell_type": "code",
   "execution_count": 187,
   "metadata": {},
   "outputs": [
    {
     "data": {
      "image/png": "[encoded data removed]",
      "text/plain": [
       "<Figure size 1800x432 with 2 Axes>"
      ]
     },
     "metadata": {
      "needs_background": "light"
     },
     "output_type": "display_data"
    }
   ],
   "source": [
    "#revisiting the missing number matrix\n",
    "#to view features and confirm data is complete\n",
    "missingno.matrix(data_all, figsize=(25, 6));"
   ]
  },
  {
   "cell_type": "code",
   "execution_count": 69,
   "metadata": {},
   "outputs": [
    {
     "data": {
      "text/html": [
       "<div>\n",
       "<style scoped>\n",
       "    .dataframe tbody tr th:only-of-type {\n",
       "        vertical-align: middle;\n",
       "    }\n",
       "\n",
       "    .dataframe tbody tr th {\n",
       "        vertical-align: top;\n",
       "    }\n",
       "\n",
       "    .dataframe thead th {\n",
       "        text-align: right;\n",
       "    }\n",
       "</style>\n",
       "<table border=\"1\" class=\"dataframe\">\n",
       "  <thead>\n",
       "    <tr style=\"text-align: right;\">\n",
       "      <th></th>\n",
       "      <th>Survived</th>\n",
       "      <th>Pclass</th>\n",
       "      <th>Age</th>\n",
       "      <th>SibSp</th>\n",
       "      <th>Parch</th>\n",
       "      <th>Fare</th>\n",
       "      <th>train_test</th>\n",
       "      <th>Embarked_Q</th>\n",
       "      <th>Embarked_S</th>\n",
       "      <th>Sex_male</th>\n",
       "      <th>...</th>\n",
       "      <th>Title_Noble</th>\n",
       "      <th>cabin_letter_B</th>\n",
       "      <th>cabin_letter_C</th>\n",
       "      <th>cabin_letter_D</th>\n",
       "      <th>cabin_letter_E</th>\n",
       "      <th>cabin_letter_F</th>\n",
       "      <th>cabin_letter_G</th>\n",
       "      <th>cabin_letter_T</th>\n",
       "      <th>cabin_letter_Unknown</th>\n",
       "      <th>Alone</th>\n",
       "    </tr>\n",
       "  </thead>\n",
       "  <tbody>\n",
       "    <tr>\n",
       "      <th>0</th>\n",
       "      <td>0</td>\n",
       "      <td>3</td>\n",
       "      <td>1</td>\n",
       "      <td>1</td>\n",
       "      <td>0</td>\n",
       "      <td>0</td>\n",
       "      <td>1</td>\n",
       "      <td>0</td>\n",
       "      <td>1</td>\n",
       "      <td>1</td>\n",
       "      <td>...</td>\n",
       "      <td>0</td>\n",
       "      <td>0</td>\n",
       "      <td>0</td>\n",
       "      <td>0</td>\n",
       "      <td>0</td>\n",
       "      <td>0</td>\n",
       "      <td>0</td>\n",
       "      <td>0</td>\n",
       "      <td>1</td>\n",
       "      <td>0</td>\n",
       "    </tr>\n",
       "    <tr>\n",
       "      <th>1</th>\n",
       "      <td>1</td>\n",
       "      <td>1</td>\n",
       "      <td>5</td>\n",
       "      <td>1</td>\n",
       "      <td>0</td>\n",
       "      <td>3</td>\n",
       "      <td>1</td>\n",
       "      <td>0</td>\n",
       "      <td>0</td>\n",
       "      <td>0</td>\n",
       "      <td>...</td>\n",
       "      <td>0</td>\n",
       "      <td>0</td>\n",
       "      <td>1</td>\n",
       "      <td>0</td>\n",
       "      <td>0</td>\n",
       "      <td>0</td>\n",
       "      <td>0</td>\n",
       "      <td>0</td>\n",
       "      <td>0</td>\n",
       "      <td>0</td>\n",
       "    </tr>\n",
       "    <tr>\n",
       "      <th>2</th>\n",
       "      <td>1</td>\n",
       "      <td>3</td>\n",
       "      <td>2</td>\n",
       "      <td>0</td>\n",
       "      <td>0</td>\n",
       "      <td>1</td>\n",
       "      <td>1</td>\n",
       "      <td>0</td>\n",
       "      <td>1</td>\n",
       "      <td>0</td>\n",
       "      <td>...</td>\n",
       "      <td>0</td>\n",
       "      <td>0</td>\n",
       "      <td>0</td>\n",
       "      <td>0</td>\n",
       "      <td>0</td>\n",
       "      <td>0</td>\n",
       "      <td>0</td>\n",
       "      <td>0</td>\n",
       "      <td>1</td>\n",
       "      <td>1</td>\n",
       "    </tr>\n",
       "    <tr>\n",
       "      <th>3</th>\n",
       "      <td>1</td>\n",
       "      <td>1</td>\n",
       "      <td>5</td>\n",
       "      <td>1</td>\n",
       "      <td>0</td>\n",
       "      <td>3</td>\n",
       "      <td>1</td>\n",
       "      <td>0</td>\n",
       "      <td>1</td>\n",
       "      <td>0</td>\n",
       "      <td>...</td>\n",
       "      <td>0</td>\n",
       "      <td>0</td>\n",
       "      <td>1</td>\n",
       "      <td>0</td>\n",
       "      <td>0</td>\n",
       "      <td>0</td>\n",
       "      <td>0</td>\n",
       "      <td>0</td>\n",
       "      <td>0</td>\n",
       "      <td>0</td>\n",
       "    </tr>\n",
       "    <tr>\n",
       "      <th>4</th>\n",
       "      <td>0</td>\n",
       "      <td>3</td>\n",
       "      <td>5</td>\n",
       "      <td>0</td>\n",
       "      <td>0</td>\n",
       "      <td>1</td>\n",
       "      <td>1</td>\n",
       "      <td>0</td>\n",
       "      <td>1</td>\n",
       "      <td>1</td>\n",
       "      <td>...</td>\n",
       "      <td>0</td>\n",
       "      <td>0</td>\n",
       "      <td>0</td>\n",
       "      <td>0</td>\n",
       "      <td>0</td>\n",
       "      <td>0</td>\n",
       "      <td>0</td>\n",
       "      <td>0</td>\n",
       "      <td>1</td>\n",
       "      <td>1</td>\n",
       "    </tr>\n",
       "  </tbody>\n",
       "</table>\n",
       "<p>5 rows × 24 columns</p>\n",
       "</div>"
      ],
      "text/plain": [
       "   Survived  Pclass  Age  SibSp  Parch  Fare  train_test  Embarked_Q  \\\n",
       "0         0       3    1      1      0     0           1           0   \n",
       "1         1       1    5      1      0     3           1           0   \n",
       "2         1       3    2      0      0     1           1           0   \n",
       "3         1       1    5      1      0     3           1           0   \n",
       "4         0       3    5      0      0     1           1           0   \n",
       "\n",
       "   Embarked_S  Sex_male  ...  Title_Noble  cabin_letter_B  cabin_letter_C  \\\n",
       "0           1         1  ...            0               0               0   \n",
       "1           0         0  ...            0               0               1   \n",
       "2           1         0  ...            0               0               0   \n",
       "3           1         0  ...            0               0               1   \n",
       "4           1         1  ...            0               0               0   \n",
       "\n",
       "   cabin_letter_D  cabin_letter_E  cabin_letter_F  cabin_letter_G  \\\n",
       "0               0               0               0               0   \n",
       "1               0               0               0               0   \n",
       "2               0               0               0               0   \n",
       "3               0               0               0               0   \n",
       "4               0               0               0               0   \n",
       "\n",
       "   cabin_letter_T  cabin_letter_Unknown  Alone  \n",
       "0               0                     1      0  \n",
       "1               0                     0      0  \n",
       "2               0                     1      1  \n",
       "3               0                     0      0  \n",
       "4               0                     1      1  \n",
       "\n",
       "[5 rows x 24 columns]"
      ]
     },
     "execution_count": 69,
     "metadata": {},
     "output_type": "execute_result"
    }
   ],
   "source": [
    "#viewing head of data to view strucutre of the data\n",
    "data_all.head()"
   ]
  },
  {
   "cell_type": "code",
   "execution_count": 70,
   "metadata": {},
   "outputs": [],
   "source": [
    "#redefining test and train data and splitting into\n",
    "#predictor (X) and response (y) variables\n",
    "train = data_all[data_all.train_test == 1].drop('train_test', axis=1)\n",
    "test = data_all[data_all.train_test == 0].drop('train_test', axis=1)\n",
    "train_X = train.iloc[:,1:]\n",
    "train_y = train.iloc[:,0]\n",
    "test_X = test.iloc[:,1:]\n",
    "test_y = test.iloc[:,0]"
   ]
  },
  {
   "cell_type": "code",
   "execution_count": 71,
   "metadata": {},
   "outputs": [],
   "source": [
    "#Scaling numeric variables using standardisation transformation (Not used)\n",
    "train_X_scaled = train_X.copy()\n",
    "test_X_scaled = test_X.copy()\n",
    "mms = MinMaxScaler(feature_range=(0,1))\n",
    "mms.fit(train_X[['Pclass', 'Age', 'SibSp', 'Parch', 'Fare']])\n",
    "train_X_scaled[['Pclass', 'Age', 'SibSp', 'Parch', 'Fare']] = mms.transform(train_X[['Pclass', 'Age', 'SibSp', 'Parch', 'Fare']])\n",
    "test_X_scaled[['Pclass', 'Age', 'SibSp', 'Parch', 'Fare']] = mms.transform(test_X[['Pclass', 'Age', 'SibSp', 'Parch', 'Fare']])"
   ]
  },
  {
   "cell_type": "code",
   "execution_count": 72,
   "metadata": {},
   "outputs": [],
   "source": [
    "#Experimenting with linear Discriminant analysis to reduce dimensionality of data\n",
    "#lda = LinearDiscriminantAnalysis()\n",
    "#lda.fit(train_X, train_y)\n",
    "#train_X_lda = lda.transform(train_X)\n",
    "#test_X_lda = lda.transform(test_X)"
   ]
  },
  {
   "cell_type": "markdown",
   "metadata": {},
   "source": [
    "## Logistic regression"
   ]
  },
  {
   "cell_type": "code",
   "execution_count": 73,
   "metadata": {},
   "outputs": [
    {
     "name": "stdout",
     "output_type": "stream",
     "text": [
      "Optimal number of features: 19\n",
      "Selected features: ['Pclass', 'Age', 'SibSp', 'Parch', 'Fare', 'Embarked_S', 'Sex_male', 'Title_Master', 'Title_Miss', 'Title_Mr', 'Title_Mrs', 'cabin_letter_B', 'cabin_letter_C', 'cabin_letter_D', 'cabin_letter_E', 'cabin_letter_F', 'cabin_letter_G', 'cabin_letter_T', 'cabin_letter_Unknown']\n"
     ]
    }
   ],
   "source": [
    "# Create the RFE object and compute a cross-validated score.\n",
    "# The \"accuracy\" scoring is proportional to the number of correct classifications\n",
    "rfecv = RFECV(estimator=LogisticRegression(max_iter=1000), step=1, cv=10, scoring='accuracy')\n",
    "rfecv.fit(train_X_scaled, train_y)\n",
    "print(f\"Optimal number of features: {rfecv.n_features_}\")\n",
    "print(f'Selected features: {list(train_X_scaled.columns[rfecv.support_])}')"
   ]
  },
  {
   "cell_type": "code",
   "execution_count": 74,
   "metadata": {},
   "outputs": [],
   "source": [
    "#savingh selected features as fslr\n",
    "fslr = list(train_X_scaled.columns[rfecv.support_])\n",
    "#filtering for selected features in train and test set using indexing\n",
    "train_X_fslr = train_X_scaled[fslr]\n",
    "test_X_fslr = test_X_scaled[fslr]"
   ]
  },
  {
   "cell_type": "code",
   "execution_count": 75,
   "metadata": {},
   "outputs": [
    {
     "name": "stdout",
     "output_type": "stream",
     "text": [
      "Training error: 0.1751 using {'C': 1.0, 'penalty': 'l1', 'solver': 'liblinear'} (82.49% accuracy at predicting validation response variables)\n"
     ]
    }
   ],
   "source": [
    "#Saving logistic regression function as variable\n",
    "lr=LogisticRegression()\n",
    "#specifying hyperparameters to try in tuning\n",
    "solvers = ['newton-cg', 'lbfgs', 'liblinear']\n",
    "penalty = ['l1','l2']\n",
    "c_values = [100, 10, 1.0, 0.1, 0.01]\n",
    "#saving hyperparameters as dictionary for tuning\n",
    "grid = dict(solver=solvers,penalty=penalty,C=c_values)\n",
    "#Using grid search cross validation to select optimal hyperparameters from above\n",
    "#5 fold CV used with parallel computing\n",
    "grid_search_lr = GridSearchCV(estimator=lr, param_grid=grid, n_jobs=-1, cv=5, scoring='accuracy',error_score=0)\n",
    "#fitting grid search to training data\n",
    "grid_result_lr = grid_search_lr.fit(train_X_fslr, train_y)\n",
    "#reporting training error from 5-fold CV for best model selected by GridSearchCv\n",
    "print(f\"Training error: {(1-grid_result_lr.best_score_).round(4)} using {grid_result_lr.best_params_} ({grid_result_lr.best_score_.round(4)*100}% accuracy at predicting validation response variables)\")"
   ]
  },
  {
   "cell_type": "code",
   "execution_count": 76,
   "metadata": {},
   "outputs": [
    {
     "name": "stdout",
     "output_type": "stream",
     "text": [
      "Logistic regression model predicted the test set with: 76.55502392344498% accuracy\n",
      "(Test error: 0.23444976076555024)\n"
     ]
    }
   ],
   "source": [
    "#using tuned model to predict test response variables ('Survived') based on test predictors\n",
    "yhat_lr = grid_result_lr.predict(test_X_fslr)\n",
    "print(f'Logistic regression model predicted the test set with: {(test_y==yhat_lr).mean()*100}% accuracy\\n(Test error: {(1-test_y==yhat_lr).mean()})')"
   ]
  },
  {
   "cell_type": "code",
   "execution_count": 77,
   "metadata": {},
   "outputs": [
    {
     "data": {
      "text/plain": [
       "array([[-1.43044009, -0.48127346, -3.36156388, -1.44923779,  0.57888878,\n",
       "        -0.35709693, -2.58979325,  2.86639986,  0.        , -0.30146756,\n",
       "         0.47948864,  0.20705053, -0.00526871,  0.58141214,  0.86548055,\n",
       "         0.03992752,  0.        ,  0.        , -0.31997536]])"
      ]
     },
     "execution_count": 77,
     "metadata": {},
     "output_type": "execute_result"
    }
   ],
   "source": [
    "#viewing coefficients\n",
    "grid_result_lr.best_estimator_.coef_"
   ]
  },
  {
   "cell_type": "code",
   "execution_count": 78,
   "metadata": {},
   "outputs": [
    {
     "data": {
      "text/plain": [
       "array([[207,  53],\n",
       "       [ 45, 113]], dtype=int64)"
      ]
     },
     "execution_count": 78,
     "metadata": {},
     "output_type": "execute_result"
    }
   ],
   "source": [
    "#creating confusion matrix from ground truth and predicted values for 'Survived'\n",
    "cmlr = confusion_matrix(test_y, yhat_lr)\n",
    "cmlr"
   ]
  },
  {
   "cell_type": "code",
   "execution_count": 79,
   "metadata": {},
   "outputs": [
    {
     "data": {
      "image/png": "[encoded data removed]",
      "text/plain": [
       "<Figure size 432x288 with 2 Axes>"
      ]
     },
     "metadata": {
      "needs_background": "light"
     },
     "output_type": "display_data"
    }
   ],
   "source": [
    "#Formatting confusion matrix into heatmap.\n",
    "#Labels manually specified due to formatting issues\n",
    "labels =  cmlr\n",
    "sns.heatmap(cmlr, annot=labels, fmt='')\n",
    "plt.xlabel('Predicted')\n",
    "plt.ylabel('Truth')\n",
    "plt.title('Logistic Regression Confusion Matrix (Survived?)');"
   ]
  },
  {
   "cell_type": "markdown",
   "metadata": {},
   "source": [
    "## Random Forest"
   ]
  },
  {
   "cell_type": "code",
   "execution_count": 80,
   "metadata": {},
   "outputs": [
    {
     "name": "stdout",
     "output_type": "stream",
     "text": [
      "Optimal number of features: 9\n",
      "Selected features: ['Pclass', 'Age', 'SibSp', 'Parch', 'Fare', 'Embarked_S', 'Sex_male', 'Title_Mr', 'cabin_letter_Unknown']\n"
     ]
    }
   ],
   "source": [
    "# Create the RFE object and compute a cross-validated score.\n",
    "# The \"accuracy\" scoring is proportional to the number of correct classifications\n",
    "rf = RandomForestClassifier()\n",
    "rfecv_rf = RFECV(estimator=rf, step=1, cv=5, scoring='accuracy')\n",
    "rfecv_rf.fit(train_X_scaled, train_y)\n",
    "print(f\"Optimal number of features: {rfecv_rf.n_features_}\")\n",
    "print(f'Selected features: {list(train_X_scaled.columns[rfecv_rf.support_])}')\n",
    "fsrf = list(train_X_scaled.columns[rfecv_rf.support_])\n",
    "train_X_fsrf = train_X_scaled[fsrf]\n",
    "test_X_fsrf = test_X_scaled[fsrf]"
   ]
  },
  {
   "cell_type": "code",
   "execution_count": 81,
   "metadata": {},
   "outputs": [],
   "source": [
    "##Setting hyperparamters for grid to be used in cross validation\n",
    "#number of trees in the forest to try\n",
    "n_estimators_rf = [int(x) for x in np.linspace(start = 200, stop = 2000, num = 10)]\n",
    "#maximum features to consider looking or best split\n",
    "max_features_rf = ['auto', 'sqrt']\n",
    "#maximum depth of the tree\n",
    "max_depth = [int(x) for x in np.linspace(10, 110, num = 11)]\n",
    "max_depth.append(None)\n",
    "#Use bootstrap sampling or not\n",
    "bootstrap = [True, False]\n",
    "#Minimum number of samples to split internal node\n",
    "min_samples_split = [2, 5, 10]\n",
    "#min number of samples to be at a leaf node\n",
    "min_samples_leaf = [1, 2, 4]\n",
    "#group hyperparameters ito grid as dictionary\n",
    "rf_grid = {'n_estimators': n_estimators_rf,\n",
    "               'max_features': max_features_rf,\n",
    "               'max_depth': max_depth,\n",
    "               'min_samples_split': min_samples_split,\n",
    "               'min_samples_leaf': min_samples_leaf,\n",
    "               'bootstrap': bootstrap}"
   ]
  },
  {
   "cell_type": "code",
   "execution_count": 82,
   "metadata": {},
   "outputs": [
    {
     "name": "stdout",
     "output_type": "stream",
     "text": [
      "Fitting 5 folds for each of 100 candidates, totalling 500 fits\n"
     ]
    },
    {
     "name": "stderr",
     "output_type": "stream",
     "text": [
      "[Parallel(n_jobs=-1)]: Using backend LokyBackend with 8 concurrent workers.\n",
      "[Parallel(n_jobs=-1)]: Done  25 tasks      | elapsed:   17.0s\n",
      "[Parallel(n_jobs=-1)]: Done 146 tasks      | elapsed:  1.4min\n",
      "[Parallel(n_jobs=-1)]: Done 349 tasks      | elapsed:  3.1min\n",
      "[Parallel(n_jobs=-1)]: Done 500 out of 500 | elapsed:  4.3min finished\n"
     ]
    },
    {
     "name": "stdout",
     "output_type": "stream",
     "text": [
      "Training error: 0.16273303621869317 using {'n_estimators': 600, 'min_samples_split': 10, 'min_samples_leaf': 2, 'max_features': 'sqrt', 'max_depth': 60, 'bootstrap': True} (83.73% accuracy at predicting training response variables)\n"
     ]
    }
   ],
   "source": [
    "# Use the random grid to search for best hyperparameters\n",
    "# First create the base model to tune\n",
    "rf = RandomForestClassifier()\n",
    "# Random search of parameters, using 5 fold cross validation, \n",
    "# search across 100 different combinations, and use all available cores\n",
    "rf_rscv = RandomizedSearchCV(estimator = rf, param_distributions = rf_grid, n_iter = 100, cv = 5, verbose=2, random_state=42, n_jobs = -1)\n",
    "# Fit the random search model\n",
    "rf_rscv.fit(train_X_fsrf, train_y)\n",
    "#reporting training error from 5-fold CV for best model selected by GridSearchCv\n",
    "print(f\"Training error: {1-rf_rscv.best_score_} using {rf_rscv.best_params_} ({rf_rscv.best_score_.round(4)*100}% accuracy at predicting training response variables)\")"
   ]
  },
  {
   "cell_type": "code",
   "execution_count": 83,
   "metadata": {},
   "outputs": [
    {
     "name": "stdout",
     "output_type": "stream",
     "text": [
      "Random forest model predicted the test response with: 76.31578947368422% accuracy\n",
      "(Test error: 0.23684210526315788)\n"
     ]
    }
   ],
   "source": [
    "#using tuned model to predict test response variables ('Survived') based on test predictors\n",
    "yhat_rf = rf_rscv.predict(test_X_fsrf)\n",
    "print(f'Random forest model predicted the test response with: {(test_y==yhat_rf).mean()*100}% accuracy\\n(Test error: {(1-test_y==yhat_rf).mean()})')"
   ]
  },
  {
   "cell_type": "code",
   "execution_count": 84,
   "metadata": {},
   "outputs": [
    {
     "data": {
      "text/plain": [
       "array([[212,  48],\n",
       "       [ 51, 107]], dtype=int64)"
      ]
     },
     "execution_count": 84,
     "metadata": {},
     "output_type": "execute_result"
    }
   ],
   "source": [
    "#creating confusion matrix from ground truth and predicted values for 'Survived'\n",
    "cmrf = confusion_matrix(test_y, yhat_rf)\n",
    "cmrf"
   ]
  },
  {
   "cell_type": "code",
   "execution_count": 85,
   "metadata": {},
   "outputs": [
    {
     "data": {
      "image/png": "[encoded data removed]",
      "text/plain": [
       "<Figure size 432x288 with 2 Axes>"
      ]
     },
     "metadata": {
      "needs_background": "light"
     },
     "output_type": "display_data"
    }
   ],
   "source": [
    "#Formatting confusion matrix into heatmap.\n",
    "#Labels manually specified due to formatting issues\n",
    "labels =  cmrf\n",
    "sns.heatmap(cmrf, annot=labels, fmt='')\n",
    "plt.xlabel('Predicted')\n",
    "plt.ylabel('Truth')\n",
    "plt.title('Random Forest Confusion Matrix (Survived?)');"
   ]
  },
  {
   "cell_type": "markdown",
   "metadata": {},
   "source": [
    "# Multinomial Naive Bayes"
   ]
  },
  {
   "cell_type": "code",
   "execution_count": 86,
   "metadata": {},
   "outputs": [
    {
     "name": "stdout",
     "output_type": "stream",
     "text": [
      "Optimal number of features: 16\n",
      "Selected features: ['SibSp', 'Parch', 'Embarked_Q', 'Sex_male', 'Title_Master', 'Title_Miss', 'Title_Mr', 'Title_Mrs', 'Title_Noble', 'cabin_letter_B', 'cabin_letter_C', 'cabin_letter_D', 'cabin_letter_E', 'cabin_letter_F', 'cabin_letter_G', 'cabin_letter_T']\n"
     ]
    }
   ],
   "source": [
    "# Create the RFE object and compute a cross-validated score.\n",
    "# The \"accuracy\" scoring is proportional to the number of correct classifications\n",
    "mnb = MultinomialNB()\n",
    "rfecv_mnb = RFECV(estimator=mnb, step=1, cv=5, scoring='accuracy')\n",
    "rfecv_mnb.fit(train_X_scaled, train_y)\n",
    "print(f\"Optimal number of features: {rfecv_mnb.n_features_}\")\n",
    "print(f'Selected features: {list(train_X_scaled.columns[rfecv_mnb.support_])}')\n",
    "fsmnb = list(train_X_scaled.columns[rfecv_mnb.support_])\n",
    "train_X_fsmnb = train_X_scaled[fsmnb]\n",
    "test_X_fsmnb = test_X_scaled[fsmnb]"
   ]
  },
  {
   "cell_type": "code",
   "execution_count": 87,
   "metadata": {},
   "outputs": [],
   "source": [
    "##Setting hyperparamters for grid to be used in cross validation\n",
    "mnb_grid = {'alpha': (1, 0.1, 0.01, 0.001, 0.0001, 0.00001)}"
   ]
  },
  {
   "cell_type": "code",
   "execution_count": 88,
   "metadata": {},
   "outputs": [
    {
     "name": "stdout",
     "output_type": "stream",
     "text": [
      "Fitting 5 folds for each of 6 candidates, totalling 30 fits\n",
      "Training error: 0.20878162073943884 using {'alpha': 1} (79.12% accuracy at predicting training response variables)\n"
     ]
    },
    {
     "name": "stderr",
     "output_type": "stream",
     "text": [
      "[Parallel(n_jobs=-1)]: Using backend LokyBackend with 8 concurrent workers.\n",
      "[Parallel(n_jobs=-1)]: Done  30 out of  30 | elapsed:    0.0s finished\n"
     ]
    }
   ],
   "source": [
    "mnb = MultinomialNB()\n",
    "# Random search of parameters, using 5 fold cross validation, \n",
    "# search across 100 different combinations, and use all available cores\n",
    "mnb_rscv = GridSearchCV(estimator = mnb, param_grid = mnb_grid, cv = 5, verbose=2, n_jobs=-1)\n",
    "# Fit the random search model\n",
    "mnb_rscv.fit(train_X_fsmnb, train_y)\n",
    "#reporting training error from 5-fold CV for best model selected by GridSearchCv\n",
    "print(f\"Training error: {1-mnb_rscv.best_score_} using {mnb_rscv.best_params_} ({mnb_rscv.best_score_.round(4)*100}% accuracy at predicting training response variables)\")"
   ]
  },
  {
   "cell_type": "code",
   "execution_count": 136,
   "metadata": {},
   "outputs": [
    {
     "name": "stdout",
     "output_type": "stream",
     "text": [
      "Multinomial Naive Bayes model predicted the test response with: 77.03349282296651% accuracy\n",
      "(Test error: 0.22966507177033493)\n"
     ]
    }
   ],
   "source": [
    "#using tuned model to predict test response variables ('Survived') based on test predictors\n",
    "yhat_mnb = mnb_rscv.predict(test_X_fsmnb)\n",
    "print(f'Multinomial Naive Bayes model predicted the test response with: {(test_y==yhat_mnb).mean()*100}% accuracy\\n(Test error: {(1-test_y==yhat_mnb).mean()})')"
   ]
  },
  {
   "cell_type": "code",
   "execution_count": 137,
   "metadata": {},
   "outputs": [
    {
     "data": {
      "text/plain": [
       "array([[214,  46],\n",
       "       [ 50, 108]], dtype=int64)"
      ]
     },
     "execution_count": 137,
     "metadata": {},
     "output_type": "execute_result"
    }
   ],
   "source": [
    "#creating confusion matrix from ground truth and predicted values for 'Survived'\n",
    "cmmnb=confusion_matrix(test_y, yhat_mnb)\n",
    "cmmnb"
   ]
  },
  {
   "cell_type": "code",
   "execution_count": 139,
   "metadata": {},
   "outputs": [
    {
     "data": {
      "image/png": "[encoded data removed]",
      "text/plain": [
       "<Figure size 432x288 with 2 Axes>"
      ]
     },
     "metadata": {
      "needs_background": "light"
     },
     "output_type": "display_data"
    }
   ],
   "source": [
    "#Formatting confusion matrix into heatmap.\n",
    "#Labels manually specified due to formatting issues\n",
    "labels =  cmmnb\n",
    "sns.heatmap(cmmnb, annot=labels, fmt='')\n",
    "plt.xlabel('Predicted')\n",
    "plt.ylabel('Truth')\n",
    "plt.title('MultinomialNB Confusion Matrix (Survived?)');"
   ]
  },
  {
   "cell_type": "markdown",
   "metadata": {},
   "source": [
    "# Deep Learning"
   ]
  },
  {
   "cell_type": "code",
   "execution_count": 122,
   "metadata": {},
   "outputs": [],
   "source": [
    "random.seed(42)\n",
    "train_X_DL = train_X_fsrf #pd.get_dummies(train_X[fsrf], columns=['Pclass', 'Age', 'Fare'], drop_first=True)\n",
    "test_X_DL = test_X_fsrf #pd.get_dummies(test_X[fsrf], columns=['Pclass', 'Age', 'Fare'], drop_first=True)\n",
    "train_y_DL = train_y\n",
    "#Shuffling data prior to cross validation to increase randomness\n",
    "train_X_DL, train_y_DL = shuffle(train_X_DL, train_y_DL)"
   ]
  },
  {
   "cell_type": "code",
   "execution_count": 125,
   "metadata": {},
   "outputs": [
    {
     "data": {
      "text/plain": [
       "(891, 9)"
      ]
     },
     "execution_count": 125,
     "metadata": {},
     "output_type": "execute_result"
    }
   ],
   "source": [
    "train_X_DL.shape"
   ]
  },
  {
   "cell_type": "code",
   "execution_count": 126,
   "metadata": {},
   "outputs": [],
   "source": [
    "def build_model(hp):\n",
    "    mlp_model = keras.models.Sequential()\n",
    "    mlp_model.add(Dense(hp.Int('input_units', 16, 256, 16), input_dim=train_X_DL.shape[1]))\n",
    "    mlp_model.add(Activation('relu'))\n",
    "    \n",
    "    for i in range(hp.Int(\"n_layers\", 1, 4)):\n",
    "        mlp_model.add(Dense(hp.Int(f'dense_{i}_units', 16, 256, 16)))\n",
    "        mlp_model.add(Activation('relu'))\n",
    "    \n",
    "    mlp_model.add(Dense(2))\n",
    "    mlp_model.add(Activation('softmax'))\n",
    "    \n",
    "    mlp_model.compile(optimizer='adam', loss='sparse_categorical_crossentropy', metrics=['accuracy'])\n",
    "    \n",
    "    return mlp_model"
   ]
  },
  {
   "cell_type": "code",
   "execution_count": 127,
   "metadata": {},
   "outputs": [
    {
     "name": "stdout",
     "output_type": "stream",
     "text": [
      "WARNING:tensorflow:Unresolved object in checkpoint: (root).optimizer.iter\n",
      "WARNING:tensorflow:Unresolved object in checkpoint: (root).optimizer.beta_1\n",
      "WARNING:tensorflow:Unresolved object in checkpoint: (root).optimizer.beta_2\n",
      "WARNING:tensorflow:Unresolved object in checkpoint: (root).optimizer.decay\n",
      "WARNING:tensorflow:Unresolved object in checkpoint: (root).optimizer.learning_rate\n",
      "WARNING:tensorflow:A checkpoint was restored (e.g. tf.train.Checkpoint.restore or tf.keras.Model.load_weights) but not all checkpointed values were used. See above for specific issues. Use expect_partial() on the load status object, e.g. tf.train.Checkpoint.restore(...).expect_partial(), to silence these warnings, or use assert_consumed() to make the check explicit. See https://www.tensorflow.org/guide/checkpoint#loading_mechanics for details.\n"
     ]
    }
   ],
   "source": [
    "tuner_mlp = RandomSearch(\n",
    "    build_model,\n",
    "    objective=\"val_accuracy\",\n",
    "    max_trials=5,\n",
    "    executions_per_trial=3,\n",
    "    directory = 'log_dir'\n",
    "   )"
   ]
  },
  {
   "cell_type": "code",
   "execution_count": 128,
   "metadata": {},
   "outputs": [
    {
     "name": "stdout",
     "output_type": "stream",
     "text": [
      "Trial 5 Complete [00h 00m 17s]\n",
      "val_accuracy: 0.8432835936546326\n",
      "\n",
      "Best val_accuracy So Far: 0.8482587138811747\n",
      "Total elapsed time: 00h 01m 32s\n",
      "INFO:tensorflow:Oracle triggered exit\n"
     ]
    }
   ],
   "source": [
    "tuner_mlp.search(x=train_X_DL,\n",
    "                y=train_y_DL,\n",
    "                epochs=50,\n",
    "                batch_size=10,\n",
    "                validation_split=0.15)"
   ]
  },
  {
   "cell_type": "code",
   "execution_count": 129,
   "metadata": {},
   "outputs": [
    {
     "name": "stdout",
     "output_type": "stream",
     "text": [
      "Results summary\n",
      "Results in log_dir\\untitled_project\n",
      "Showing 10 best trials\n",
      "Objective(name='val_accuracy', direction='max')\n",
      "Trial summary\n",
      "Hyperparameters:\n",
      "input_units: 224\n",
      "n_layers: 2\n",
      "dense_0_units: 208\n",
      "dense_1_units: 64\n",
      "dense_2_units: 144\n",
      "Score: 0.8482587138811747\n",
      "Trial summary\n",
      "Hyperparameters:\n",
      "input_units: 64\n",
      "n_layers: 1\n",
      "dense_0_units: 208\n",
      "dense_1_units: 176\n",
      "dense_2_units: 64\n",
      "Score: 0.8482587138811747\n",
      "Trial summary\n",
      "Hyperparameters:\n",
      "input_units: 224\n",
      "n_layers: 3\n",
      "dense_0_units: 80\n",
      "dense_1_units: 16\n",
      "dense_2_units: 16\n",
      "Score: 0.8457711537679037\n",
      "Trial summary\n",
      "Hyperparameters:\n",
      "input_units: 176\n",
      "n_layers: 2\n",
      "dense_0_units: 160\n",
      "dense_1_units: 144\n",
      "dense_2_units: 128\n",
      "Score: 0.8457711537679037\n",
      "Trial summary\n",
      "Hyperparameters:\n",
      "input_units: 112\n",
      "n_layers: 3\n",
      "dense_0_units: 32\n",
      "dense_1_units: 208\n",
      "dense_2_units: 32\n",
      "Score: 0.8432835936546326\n",
      "None\n"
     ]
    }
   ],
   "source": [
    "print(tuner_mlp.results_summary())"
   ]
  },
  {
   "cell_type": "code",
   "execution_count": 130,
   "metadata": {},
   "outputs": [],
   "source": [
    "mlp_predictions = tuner_mlp.get_best_models()[0].predict(x=test_X_DL, batch_size=10, verbose=0)"
   ]
  },
  {
   "cell_type": "code",
   "execution_count": 131,
   "metadata": {},
   "outputs": [
    {
     "name": "stdout",
     "output_type": "stream",
     "text": [
      "Multi-layer perceptron model predicted the test response with:77.51196172248804% accuracy\n",
      "(Test error: 0.22488038277511962)\n"
     ]
    }
   ],
   "source": [
    "yhat_mlp = np.argmax(mlp_predictions, axis=-1)\n",
    "print(f'Multi-layer perceptron model predicted the test response with:{(test_y==yhat_mlp).mean()*100}% accuracy\\n(Test error: {(1-test_y==yhat_mlp).mean()})')"
   ]
  },
  {
   "cell_type": "code",
   "execution_count": 132,
   "metadata": {},
   "outputs": [
    {
     "data": {
      "text/plain": [
       "array([[224,  36],\n",
       "       [ 58, 100]], dtype=int64)"
      ]
     },
     "execution_count": 132,
     "metadata": {},
     "output_type": "execute_result"
    }
   ],
   "source": [
    "#creating confusion matrix from ground truth and predicted values for 'Survived'\n",
    "cmmlp = confusion_matrix(test_y, yhat_mlp)\n",
    "cmmlp"
   ]
  },
  {
   "cell_type": "code",
   "execution_count": 133,
   "metadata": {},
   "outputs": [
    {
     "data": {
      "image/png": "[encoded data removed]",
      "text/plain": [
       "<Figure size 432x288 with 2 Axes>"
      ]
     },
     "metadata": {
      "needs_background": "light"
     },
     "output_type": "display_data"
    }
   ],
   "source": [
    "#Formatting confusion matrix into heatmap.\n",
    "#Labels manually specified due to formatting issues\n",
    "labels =  cmmlp\n",
    "sns.heatmap(cmmlp, annot=labels, fmt='')\n",
    "plt.xlabel('Predicted')\n",
    "plt.ylabel('Truth')\n",
    "plt.title('MLP Confusion Matrix (Survived?)');"
   ]
  },
  {
   "cell_type": "markdown",
   "metadata": {},
   "source": [
    "## Comparison"
   ]
  },
  {
   "cell_type": "code",
   "execution_count": 134,
   "metadata": {},
   "outputs": [],
   "source": [
    "model_comparison_table = pd.DataFrame({\n",
    "    'Model': ['Multi-Layer Perceptron', 'Logistic Regression', 'Random Forest', 'Multinomial Naive Bayes'],\n",
    "    \n",
    "    'Training Accuracy': [0.8532338341077169*100, grid_result_lr.best_score_*100, rf_rscv.best_score_*100, mnb_rscv.best_score_*100],\n",
    "    \n",
    "    'Test Accuracy': [(test_y==yhat_mlp).mean()*100, (test_y==yhat_lr).mean()*100, (test_y==yhat_rf).mean()*100, (test_y==yhat_mnb).mean()*100]\n",
    "    })\n",
    "\n",
    "model_comparison_table.sort_values(by=['Test Accuracy'], inplace=True, ascending=False)\n",
    "\n",
    "model_comparison_table = model_comparison_table.reset_index(drop=True)"
   ]
  },
  {
   "cell_type": "code",
   "execution_count": 135,
   "metadata": {},
   "outputs": [
    {
     "data": {
      "text/html": [
       "<div>\n",
       "<style scoped>\n",
       "    .dataframe tbody tr th:only-of-type {\n",
       "        vertical-align: middle;\n",
       "    }\n",
       "\n",
       "    .dataframe tbody tr th {\n",
       "        vertical-align: top;\n",
       "    }\n",
       "\n",
       "    .dataframe thead th {\n",
       "        text-align: right;\n",
       "    }\n",
       "</style>\n",
       "<table border=\"1\" class=\"dataframe\">\n",
       "  <thead>\n",
       "    <tr style=\"text-align: right;\">\n",
       "      <th></th>\n",
       "      <th>Model</th>\n",
       "      <th>Training Accuracy</th>\n",
       "      <th>Test Accuracy</th>\n",
       "    </tr>\n",
       "  </thead>\n",
       "  <tbody>\n",
       "    <tr>\n",
       "      <th>0</th>\n",
       "      <td>Multi-Layer Perceptron</td>\n",
       "      <td>85.323383</td>\n",
       "      <td>77.511962</td>\n",
       "    </tr>\n",
       "    <tr>\n",
       "      <th>1</th>\n",
       "      <td>Multinomial Naive Bayes</td>\n",
       "      <td>79.121838</td>\n",
       "      <td>77.033493</td>\n",
       "    </tr>\n",
       "    <tr>\n",
       "      <th>2</th>\n",
       "      <td>Logistic Regression</td>\n",
       "      <td>82.491369</td>\n",
       "      <td>76.555024</td>\n",
       "    </tr>\n",
       "    <tr>\n",
       "      <th>3</th>\n",
       "      <td>Random Forest</td>\n",
       "      <td>83.726696</td>\n",
       "      <td>76.315789</td>\n",
       "    </tr>\n",
       "  </tbody>\n",
       "</table>\n",
       "</div>"
      ],
      "text/plain": [
       "                     Model  Training Accuracy  Test Accuracy\n",
       "0   Multi-Layer Perceptron          85.323383      77.511962\n",
       "1  Multinomial Naive Bayes          79.121838      77.033493\n",
       "2      Logistic Regression          82.491369      76.555024\n",
       "3            Random Forest          83.726696      76.315789"
      ]
     },
     "execution_count": 135,
     "metadata": {},
     "output_type": "execute_result"
    }
   ],
   "source": [
    "model_comparison_table"
   ]
  },
  {
   "cell_type": "code",
   "execution_count": null,
   "metadata": {},
   "outputs": [],
   "source": []
  },
  {
   "cell_type": "code",
   "execution_count": null,
   "metadata": {},
   "outputs": [],
   "source": []
  },
  {
   "cell_type": "code",
   "execution_count": null,
   "metadata": {},
   "outputs": [],
   "source": []
  },
  {
   "cell_type": "code",
   "execution_count": null,
   "metadata": {},
   "outputs": [],
   "source": []
  },
  {
   "cell_type": "code",
   "execution_count": null,
   "metadata": {},
   "outputs": [],
   "source": []
  }
 ],
 "metadata": {
  "kernelspec": {
   "display_name": "Python 3",
   "language": "python",
   "name": "python3"
  },
  "language_info": {
   "codemirror_mode": {
    "name": "ipython",
    "version": 3
   },
   "file_extension": ".py",
   "mimetype": "text/x-python",
   "name": "python",
   "nbconvert_exporter": "python",
   "pygments_lexer": "ipython3",
   "version": "3.7.9"
  }
 },
 "nbformat": 4,
 "nbformat_minor": 4
}
